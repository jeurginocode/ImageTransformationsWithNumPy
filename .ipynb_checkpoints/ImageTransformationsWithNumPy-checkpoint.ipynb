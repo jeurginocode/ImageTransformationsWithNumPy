{
  "cells": [
    {
      "cell_type": "markdown",
      "metadata": {
        "id": "view-in-github",
        "colab_type": "text"
      },
      "source": [
        "<a href=\"https://colab.research.google.com/github/jeurginocode/ImageTransformationsWithNumPy/blob/main/.ipynb_checkpoints/ImageTransformationsWithNumPy-checkpoint.ipynb\" target=\"_parent\"><img src=\"https://colab.research.google.com/assets/colab-badge.svg\" alt=\"Open In Colab\"/></a>"
      ]
    },
    {
      "cell_type": "markdown",
      "id": "a2465ff0",
      "metadata": {
        "id": "a2465ff0"
      },
      "source": [
        "# Image Transformations with NumPy\n",
        "\n",
        "> from Codecademy\n",
        "\n",
        "In this project, we are going to create and transform images using the power of NumPy arrays and linear algebra. We will see how we can represent NumPy arrays as images and transform those images by treating them as matrices."
      ]
    },
    {
      "cell_type": "code",
      "execution_count": null,
      "id": "41075b99",
      "metadata": {
        "id": "41075b99"
      },
      "outputs": [],
      "source": [
        "import numpy as np\n",
        "import matplotlib.pyplot as plt\n",
        "\n",
        "heart_img = np.array([[255,0,0,255,0,0,255],\n",
        "              [0,255/2,255/2,0,255/2,255/2,0],\n",
        "          [0,255/2,255/2,255/2,255/2,255/2,0],\n",
        "          [0,255/2,255/2,255/2,255/2,255/2,0],\n",
        "              [255,0,255/2,255/2,255/2,0,255],\n",
        "                  [255,255,0,255/2,0,255,255],\n",
        "                  [255,255,255,0,255,255,255]])\n",
        "\n",
        "# This is a helper function that makes it easy for you to show images!\n",
        "def show_image(image, name_identifier):\n",
        "  plt.imshow(image, cmap=\"seismic\")\n",
        "  plt.title(name_identifier)\n",
        "  plt.show()\n",
        "\n"
      ]
    },
    {
      "cell_type": "markdown",
      "id": "34b6db48",
      "metadata": {
        "id": "34b6db48"
      },
      "source": [
        "There are two things preloaded for you:\n",
        "\n",
        "- `heart_img`: a NumPy array representing a 7x7 matrix of RGB values\n",
        "- `show_image()`: a helper function that will allow you to show images easily throughout your project\n",
        "\n",
        "We are going to use `show_image()` to reveal the photo `heart_img` represents. Before we do so, let’s go over the functionality of `show_image()`.\n",
        "\n",
        "`show_image()` takes in two parameters:\n",
        "\n",
        "- `image`: a NumPy array of RGB values\n",
        "- `name_identifier`: a string to title your photo (this will make it easy to keep track of what is being plotted throughout your project)\n",
        "\n",
        "Use `show_image()` to plot `heart_img` with the title `\"Heart Image\"`."
      ]
    },
    {
      "cell_type": "code",
      "execution_count": null,
      "id": "850932c1",
      "metadata": {
        "colab": {
          "base_uri": "https://localhost:8080/",
          "height": 452
        },
        "id": "850932c1",
        "outputId": "81365bf0-84f5-433a-c854-e733e52617c0"
      },
      "outputs": [
        {
          "output_type": "display_data",
          "data": {
            "text/plain": [
              "<Figure size 640x480 with 1 Axes>"
            ],
            "image/png": "[encoded data removed]"
          },
          "metadata": {}
        }
      ],
      "source": [
        "show_image(heart_img, \"Heart Image\")"
      ]
    },
    {
      "cell_type": "markdown",
      "id": "7891149d",
      "metadata": {
        "id": "7891149d"
      },
      "source": [
        "You should now see a 7x7 pixel grayscale image of a heart\n",
        "\n",
        "Can you figure out how the NumPy array heart_img creates that image you see? Take some time to think.\n",
        "\n",
        "Notice that heart_img is a 7x7 matrix and that the heart image itself is 7x7 pixels. Using `show_image()`, we mapped each value in `heart_img` to a 7x7 square matrix with grayscale colors that range from 0 (black) to 255 (white).\n",
        "\n",
        "With this in mind, what are the heart_img values of the following sections of the heart image we see?\n",
        "\n",
        "- (6, 6) — bottom right\n",
        "- (3, 3) — center\n",
        "- (1, 3) — right below top center"
      ]
    },
    {
      "cell_type": "code",
      "execution_count": null,
      "id": "d8e587da",
      "metadata": {
        "colab": {
          "base_uri": "https://localhost:8080/"
        },
        "id": "d8e587da",
        "outputId": "e1116e18-3d39-4b28-fbf8-149ac4fa71f1"
      },
      "outputs": [
        {
          "output_type": "stream",
          "name": "stdout",
          "text": [
            "255.0\n",
            "127.5\n",
            "0.0\n"
          ]
        }
      ],
      "source": [
        "print(heart_img[6,6]) #te dan el valor de del color en esa posicion [6,6]\n",
        "print(heart_img[3,3])\n",
        "print(heart_img[1,3])"
      ]
    },
    {
      "cell_type": "markdown",
      "id": "3a97bae1",
      "metadata": {
        "id": "3a97bae1"
      },
      "source": [
        "Now that we understand how a NumPy array maps to an image let’s do some fun image transformations!\n",
        "\n",
        "Since our image is a matrix, we can do transformations based on linear algebra.\n",
        "\n",
        "First, let’s invert the colors of our heart image.\n",
        "\n",
        "Create a new variable called `inverted_heart_img` that subtracts each value in heart_img from 255.\n",
        "Show `inverted_heart_img` with the plot title `“Inverted Heart Image.”`"
      ]
    },
    {
      "cell_type": "code",
      "execution_count": null,
      "id": "4b5708f8",
      "metadata": {
        "colab": {
          "base_uri": "https://localhost:8080/",
          "height": 574
        },
        "id": "4b5708f8",
        "outputId": "24aeab36-92b1-4fc1-824e-57563e792d08"
      },
      "outputs": [
        {
          "output_type": "display_data",
          "data": {
            "text/plain": [
              "<Figure size 640x480 with 1 Axes>"
            ],
            "image/png": "[encoded data removed]"
          },
          "metadata": {}
        },
        {
          "output_type": "stream",
          "name": "stdout",
          "text": [
            "[[  0.  255.  255.    0.  255.  255.    0. ]\n",
            " [255.  127.5 127.5 255.  127.5 127.5 255. ]\n",
            " [255.  127.5 127.5 127.5 127.5 127.5 255. ]\n",
            " [255.  127.5 127.5 127.5 127.5 127.5 255. ]\n",
            " [  0.  255.  127.5 127.5 127.5 255.    0. ]\n",
            " [  0.    0.  255.  127.5 255.    0.    0. ]\n",
            " [  0.    0.    0.  255.    0.    0.    0. ]]\n"
          ]
        }
      ],
      "source": [
        "inverted_heart_img=255 -heart_img\n",
        "show_image(inverted_heart_img, \"Inverted Heart Image.\" )\n",
        "print(inverted_heart_img)"
      ]
    },
    {
      "cell_type": "markdown",
      "id": "cb4e666e",
      "metadata": {
        "id": "cb4e666e"
      },
      "source": [
        "You should now see the Photo of 7x7 pixel grayscale heart that is inverted in color from the previous image\n",
        "\n",
        "Notice that the white pixels are now black, the black pixels are now white, while the gray pixels are the same since 255-(255/2) = 255/2\n",
        "\n",
        "Let’s do another image transformation. This time let’s plot a rotation of `heart_img`.\n",
        "\n",
        "- Create a new variable called `rotated_heart_img` that swaps the rows and columns of `heart_img`.\n",
        "- Show `rotated_heart_img` with the plot title `“Rotated Heart Image”`."
      ]
    },
    {
      "cell_type": "code",
      "execution_count": null,
      "id": "2b60455b",
      "metadata": {
        "colab": {
          "base_uri": "https://localhost:8080/",
          "height": 452
        },
        "id": "2b60455b",
        "outputId": "2eb0aecc-f61c-4f4d-d15e-00e88a6613e0"
      },
      "outputs": [
        {
          "output_type": "display_data",
          "data": {
            "text/plain": [
              "<Figure size 640x480 with 1 Axes>"
            ],
            "image/png": "[encoded data removed]"
          },
          "metadata": {}
        }
      ],
      "source": [
        "rotated_heart_img = heart_img.T\n",
        "show_image(rotated_heart_img, \"Rotated Heart Image\")"
      ]
    },
    {
      "cell_type": "markdown",
      "id": "3c84caa5",
      "metadata": {
        "id": "3c84caa5"
      },
      "source": [
        "You should now see a 7x7 pixel grayscale image of a rotated heart\n",
        "\n",
        "The rows of `heart_img` have now become the columns of `rotated_heart_img` as we plotted the transpose of `heart_img`.\n",
        "\n",
        "Let’s dive into some more complicated operations next!"
      ]
    },
    {
      "cell_type": "markdown",
      "id": "3bb47771",
      "metadata": {
        "id": "3bb47771"
      },
      "source": [
        "Create the following variable:\n",
        "\n",
        "```python\n",
        "random_img = np.random.randint(0,255, (7,7))\n",
        "```\n",
        "Plot that image using `show_image()` with the title `“Random Image.”`"
      ]
    },
    {
      "cell_type": "code",
      "execution_count": null,
      "id": "e148d1cc",
      "metadata": {
        "colab": {
          "base_uri": "https://localhost:8080/",
          "height": 452
        },
        "id": "e148d1cc",
        "outputId": "341135e5-b788-4f57-f18e-07b1213cdd80"
      },
      "outputs": [
        {
          "output_type": "display_data",
          "data": {
            "text/plain": [
              "<Figure size 640x480 with 1 Axes>"
            ],
            "image/png": "[encoded data removed]"
          },
          "metadata": {}
        }
      ],
      "source": [
        "random_img=np.random.randint(0 ,255, (7,7))\n",
        "show_image(random_img, \"Random_Imge\")"
      ]
    },
    {
      "cell_type": "markdown",
      "id": "04f7627f",
      "metadata": {
        "id": "04f7627f"
      },
      "source": [
        "We want to solve for the matrix that creates `heart_img` given the following equation:\n",
        "\n",
        "$$random\\_img \\cdot x = heart\\_img$$\n",
        "\n",
        "Create a variable called `x` that is the solution to this equation.\n",
        "\n",
        "Plot `x` using `show_image()` with the title `“x”`."
      ]
    },
    {
      "cell_type": "code",
      "execution_count": null,
      "id": "874736b6",
      "metadata": {
        "colab": {
          "base_uri": "https://localhost:8080/",
          "height": 452
        },
        "id": "874736b6",
        "outputId": "df117a69-31e3-4ee5-8719-97ee84b32ff6"
      },
      "outputs": [
        {
          "output_type": "display_data",
          "data": {
            "text/plain": [
              "<Figure size 640x480 with 1 Axes>"
            ],
            "image/png": "[encoded data removed]"
          },
          "metadata": {}
        }
      ],
      "source": [
        "x =np.linalg.inv(random_img) @ heart_img\n",
        "show_image(x, \"x\")"
      ]
    },
    {
      "cell_type": "markdown",
      "id": "ee219562",
      "metadata": {
        "id": "ee219562"
      },
      "source": [
        "Create a variable called `solved_heart_img` that is equal to the product of `random_img` and `x`.\n",
        "\n",
        "Plot `solved_heart_img` with the plot title `“Solved Heart Image”`.\n",
        "\n",
        "What image do you see in the web browser?"
      ]
    },
    {
      "cell_type": "code",
      "execution_count": null,
      "id": "fb3c77a9",
      "metadata": {
        "colab": {
          "base_uri": "https://localhost:8080/",
          "height": 452
        },
        "id": "fb3c77a9",
        "outputId": "da8bfc36-f37e-4a0f-f36a-3953cae51854"
      },
      "outputs": [
        {
          "output_type": "display_data",
          "data": {
            "text/plain": [
              "<Figure size 640x480 with 1 Axes>"
            ],
            "image/png": "[encoded data removed]"
          },
          "metadata": {}
        }
      ],
      "source": [
        "solved_heart_img= random_img @ x\n",
        "show_image(solved_heart_img, \"Solved Heart Img\")"
      ]
    },
    {
      "cell_type": "markdown",
      "id": "9cadde75",
      "metadata": {
        "id": "9cadde75"
      },
      "source": [
        "Here are some more things you can try:\n",
        "\n",
        "- Create a new shape with a NumPy array.\n",
        "- Transform your image with a permutation matrix.\n",
        "- Change the color scheme from grayscale. Check the cmap parameter of the imshow() function.\n",
        "- Create a complicated image with more pixels and/or a shape that is not a square matrix."
      ]
    },
    {
      "cell_type": "markdown",
      "source": [
        "ejercicio desarrollado por jorge enrique(jorge.arnedo@upb.edu.co)"
      ],
      "metadata": {
        "id": "EJAoC2cjxWEi"
      },
      "id": "EJAoC2cjxWEi"
    },
    {
      "cell_type": "code",
      "execution_count": null,
      "id": "9a846492",
      "metadata": {
        "id": "9a846492"
      },
      "outputs": [],
      "source": []
    }
  ],
  "metadata": {
    "kernelspec": {
      "display_name": "Python 3 (ipykernel)",
      "language": "python",
      "name": "python3"
    },
    "language_info": {
      "codemirror_mode": {
        "name": "ipython",
        "version": 3
      },
      "file_extension": ".py",
      "mimetype": "text/x-python",
      "name": "python",
      "nbconvert_exporter": "python",
      "pygments_lexer": "ipython3",
      "version": "3.10.6"
    },
    "colab": {
      "provenance": [],
      "include_colab_link": true
    }
  },
  "nbformat": 4,
  "nbformat_minor": 5
}